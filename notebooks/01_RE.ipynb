{
 "cells": [
  {
   "cell_type": "code",
   "execution_count": 1,
   "id": "vulnerable-container",
   "metadata": {},
   "outputs": [],
   "source": [
    "import re"
   ]
  },
  {
   "cell_type": "markdown",
   "id": "comparative-recycling",
   "metadata": {},
   "source": [
    "`1. Search`"
   ]
  },
  {
   "cell_type": "code",
   "execution_count": 2,
   "id": "impaired-syndrome",
   "metadata": {},
   "outputs": [],
   "source": [
    "sentence = \"ML Learner's Digest is a tasty helping of ml thoughts served weekly!\""
   ]
  },
  {
   "cell_type": "code",
   "execution_count": 3,
   "id": "recorded-piece",
   "metadata": {},
   "outputs": [
    {
     "name": "stdout",
     "output_type": "stream",
     "text": [
      "<re.Match object; span=(13, 19), match='Digest'>\n"
     ]
    }
   ],
   "source": [
    "out = re.search('Digest', sentence)\n",
    "print(out)"
   ]
  },
  {
   "cell_type": "code",
   "execution_count": 4,
   "id": "attended-bread",
   "metadata": {},
   "outputs": [
    {
     "name": "stdout",
     "output_type": "stream",
     "text": [
      "None\n"
     ]
    }
   ],
   "source": [
    "out = re.search('1', sentence)\n",
    "print(out)"
   ]
  },
  {
   "cell_type": "markdown",
   "id": "fluid-employment",
   "metadata": {},
   "source": [
    "`2. Match`"
   ]
  },
  {
   "cell_type": "code",
   "execution_count": 5,
   "id": "damaged-opinion",
   "metadata": {},
   "outputs": [
    {
     "name": "stdout",
     "output_type": "stream",
     "text": [
      "None\n"
     ]
    }
   ],
   "source": [
    "out = re.match('tasty', sentence)\n",
    "print(out)"
   ]
  },
  {
   "cell_type": "code",
   "execution_count": 6,
   "id": "periodic-trading",
   "metadata": {},
   "outputs": [
    {
     "name": "stdout",
     "output_type": "stream",
     "text": [
      "<re.Match object; span=(0, 2), match='ML'>\n"
     ]
    }
   ],
   "source": [
    "out = re.match('ML', sentence)\n",
    "print(out)"
   ]
  },
  {
   "cell_type": "code",
   "execution_count": 7,
   "id": "associate-softball",
   "metadata": {},
   "outputs": [
    {
     "data": {
      "text/plain": [
       "['__class__',\n",
       " '__class_getitem__',\n",
       " '__copy__',\n",
       " '__deepcopy__',\n",
       " '__delattr__',\n",
       " '__dir__',\n",
       " '__doc__',\n",
       " '__eq__',\n",
       " '__format__',\n",
       " '__ge__',\n",
       " '__getattribute__',\n",
       " '__getitem__',\n",
       " '__gt__',\n",
       " '__hash__',\n",
       " '__init__',\n",
       " '__init_subclass__',\n",
       " '__le__',\n",
       " '__lt__',\n",
       " '__ne__',\n",
       " '__new__',\n",
       " '__reduce__',\n",
       " '__reduce_ex__',\n",
       " '__repr__',\n",
       " '__setattr__',\n",
       " '__sizeof__',\n",
       " '__str__',\n",
       " '__subclasshook__',\n",
       " 'end',\n",
       " 'endpos',\n",
       " 'expand',\n",
       " 'group',\n",
       " 'groupdict',\n",
       " 'groups',\n",
       " 'lastgroup',\n",
       " 'lastindex',\n",
       " 'pos',\n",
       " 're',\n",
       " 'regs',\n",
       " 'span',\n",
       " 'start',\n",
       " 'string']"
      ]
     },
     "execution_count": 7,
     "metadata": {},
     "output_type": "execute_result"
    }
   ],
   "source": [
    "dir(out)"
   ]
  },
  {
   "cell_type": "code",
   "execution_count": 8,
   "id": "immediate-jamaica",
   "metadata": {},
   "outputs": [
    {
     "data": {
      "text/plain": [
       "\"ML Learner's Digest is a tasty helping of ml thoughts served weekly!\""
      ]
     },
     "execution_count": 8,
     "metadata": {},
     "output_type": "execute_result"
    }
   ],
   "source": [
    "out.string"
   ]
  },
  {
   "cell_type": "code",
   "execution_count": 9,
   "id": "formed-nightmare",
   "metadata": {},
   "outputs": [
    {
     "data": {
      "text/plain": [
       "2"
      ]
     },
     "execution_count": 9,
     "metadata": {},
     "output_type": "execute_result"
    }
   ],
   "source": [
    "out.end()"
   ]
  },
  {
   "cell_type": "code",
   "execution_count": 10,
   "id": "uniform-guide",
   "metadata": {},
   "outputs": [
    {
     "data": {
      "text/plain": [
       "0"
      ]
     },
     "execution_count": 10,
     "metadata": {},
     "output_type": "execute_result"
    }
   ],
   "source": [
    "out.start()"
   ]
  },
  {
   "cell_type": "code",
   "execution_count": 11,
   "id": "restricted-caribbean",
   "metadata": {},
   "outputs": [
    {
     "data": {
      "text/plain": [
       "'ML'"
      ]
     },
     "execution_count": 11,
     "metadata": {},
     "output_type": "execute_result"
    }
   ],
   "source": [
    "sentence[0:2]"
   ]
  },
  {
   "cell_type": "code",
   "execution_count": 12,
   "id": "weekly-bermuda",
   "metadata": {},
   "outputs": [
    {
     "data": {
      "text/plain": [
       "\"ML Learner's Digest is a tasty helping of ml thoughts served weekly!\""
      ]
     },
     "execution_count": 12,
     "metadata": {},
     "output_type": "execute_result"
    }
   ],
   "source": [
    "out.string"
   ]
  },
  {
   "cell_type": "code",
   "execution_count": 13,
   "id": "bizarre-government",
   "metadata": {},
   "outputs": [
    {
     "data": {
      "text/plain": [
       "'ML'"
      ]
     },
     "execution_count": 13,
     "metadata": {},
     "output_type": "execute_result"
    }
   ],
   "source": [
    "out.group()"
   ]
  },
  {
   "cell_type": "code",
   "execution_count": 14,
   "id": "retired-ministry",
   "metadata": {},
   "outputs": [
    {
     "data": {
      "text/plain": [
       "{}"
      ]
     },
     "execution_count": 14,
     "metadata": {},
     "output_type": "execute_result"
    }
   ],
   "source": [
    "out.groupdict()"
   ]
  },
  {
   "cell_type": "code",
   "execution_count": 15,
   "id": "editorial-cornell",
   "metadata": {},
   "outputs": [
    {
     "data": {
      "text/plain": [
       "()"
      ]
     },
     "execution_count": 15,
     "metadata": {},
     "output_type": "execute_result"
    }
   ],
   "source": [
    "out.groups()"
   ]
  },
  {
   "cell_type": "code",
   "execution_count": 16,
   "id": "engaging-gregory",
   "metadata": {},
   "outputs": [
    {
     "name": "stdout",
     "output_type": "stream",
     "text": [
      "<re.Match object; span=(0, 30), match=\"ML Learner's Digest is a tasty\">\n"
     ]
    }
   ],
   "source": [
    "out = re.match('.*tasty', sentence)\n",
    "print(out)"
   ]
  },
  {
   "cell_type": "code",
   "execution_count": 17,
   "id": "confirmed-cooking",
   "metadata": {},
   "outputs": [
    {
     "data": {
      "text/plain": [
       "\"ML Learner's Digest is a tasty\""
      ]
     },
     "execution_count": 17,
     "metadata": {},
     "output_type": "execute_result"
    }
   ],
   "source": [
    "sentence[0:30]"
   ]
  },
  {
   "cell_type": "code",
   "execution_count": 18,
   "id": "amended-fleet",
   "metadata": {},
   "outputs": [
    {
     "name": "stdout",
     "output_type": "stream",
     "text": [
      "<re.Match object; span=(0, 30), match=\"ML Learner's Digest is a tasty\">\n",
      "('tasty',)\n"
     ]
    }
   ],
   "source": [
    "out = re.match('.*(tasty)', sentence)\n",
    "print(out)\n",
    "print(out.groups())"
   ]
  },
  {
   "cell_type": "markdown",
   "id": "crucial-sport",
   "metadata": {},
   "source": [
    "`3. Findall`"
   ]
  },
  {
   "cell_type": "code",
   "execution_count": 19,
   "id": "straight-favor",
   "metadata": {},
   "outputs": [
    {
     "name": "stdout",
     "output_type": "stream",
     "text": [
      "['ea', 'er', 'es', 'el', 'er', 'ed', 'ee']\n"
     ]
    }
   ],
   "source": [
    "out = re.findall('e.', sentence)\n",
    "print(out)"
   ]
  },
  {
   "cell_type": "code",
   "execution_count": 20,
   "id": "green-humor",
   "metadata": {},
   "outputs": [
    {
     "name": "stdout",
     "output_type": "stream",
     "text": [
      "[\"earner's Digest is a tasty helping of ml thoughts served \"]\n"
     ]
    }
   ],
   "source": [
    "out = re.findall('e.* ', sentence)\n",
    "print(out)"
   ]
  },
  {
   "cell_type": "code",
   "execution_count": 21,
   "id": "federal-walter",
   "metadata": {},
   "outputs": [
    {
     "name": "stdout",
     "output_type": "stream",
     "text": [
      "[\"earner's \", 'est ', 'elping ', 'erved ']\n"
     ]
    }
   ],
   "source": [
    "out = re.findall('e.*? ', sentence)\n",
    "print(out)"
   ]
  },
  {
   "cell_type": "code",
   "execution_count": null,
   "id": "choice-bermuda",
   "metadata": {},
   "outputs": [],
   "source": []
  },
  {
   "cell_type": "code",
   "execution_count": null,
   "id": "preceding-throw",
   "metadata": {},
   "outputs": [],
   "source": []
  }
 ],
 "metadata": {
  "kernelspec": {
   "display_name": "Python 3",
   "language": "python",
   "name": "python3"
  },
  "language_info": {
   "codemirror_mode": {
    "name": "ipython",
    "version": 3
   },
   "file_extension": ".py",
   "mimetype": "text/x-python",
   "name": "python",
   "nbconvert_exporter": "python",
   "pygments_lexer": "ipython3",
   "version": "3.9.1"
  }
 },
 "nbformat": 4,
 "nbformat_minor": 5
}
